{
 "cells": [
  {
   "cell_type": "code",
   "execution_count": 1,
   "id": "2f8ce363-a218-4977-a0b8-8bb50bd4be36",
   "metadata": {},
   "outputs": [
    {
     "name": "stdout",
     "output_type": "stream",
     "text": [
      "Enter the name of the project directory:  Currency_converter\n"
     ]
    },
    {
     "name": "stdout",
     "output_type": "stream",
     "text": [
      "Directory created: Currency_converter/src\n",
      "Directory created: Currency_converter/tests\n",
      "File created: Currency_converter/src/project.py\n",
      "File created: Currency_converter/tests/test_project.py\n",
      "File created: Currency_converter/requirements.txt\n",
      "File created: Currency_converter/.gitignore\n",
      "File created: Currency_converter/README.md\n"
     ]
    }
   ],
   "source": [
    "import os\n",
    "\n",
    "'''def create_project_structure(base_dir):\n",
    "    # Define folder structure\n",
    "    directories = [\n",
    "        os.path.join(base_dir, 'src'),  # For source code\n",
    "        os.path.join(base_dir, 'tests'),  # For test files\n",
    "    ]\n",
    "    \n",
    "    # Define the files to be created\n",
    "    files = {\n",
    "        os.path.join(base_dir, 'src', 'project.py'): \"# This is the main project file\\n\",\n",
    "        os.path.join(base_dir, 'tests', 'test_project.py'): \"# This is the test file for pytest\\n\",\n",
    "        os.path.join(base_dir, 'requirements.txt'): \"requests\\npytest\\n\",\n",
    "        os.path.join(base_dir, '.gitignore'): \"__pycache__/\\n*.pyc\\n\",\n",
    "        os.path.join(base_dir, 'README.md'): \"# Currency Converter Project\\nThis is the final project for ACIT4420-1\\n\"\n",
    "    }\n",
    "    \n",
    "    # Create directories\n",
    "    for directory in directories:\n",
    "        if not os.path.exists(directory):\n",
    "            os.makedirs(directory)\n",
    "            print(f\"Directory created: {directory}\")\n",
    "        else:\n",
    "            print(f\"Directory already exists: {directory}\")\n",
    "    \n",
    "    # Create files with initial content\n",
    "    for filepath, content in files.items():\n",
    "        if not os.path.exists(filepath):\n",
    "            with open(filepath, 'w') as file:\n",
    "                file.write(content)\n",
    "            print(f\"File created: {filepath}\")\n",
    "        else:\n",
    "            print(f\"File already exists: {filepath}\")\n",
    "\n",
    "if __name__ == \"__main__\":\n",
    "    project_name = input(\"Enter the name of the project directory: \")\n",
    "    create_project_structure(project_name)'''"
   ]
  },
  {
   "cell_type": "code",
   "execution_count": null,
   "id": "d656da6c-15b3-4d04-9c9f-73d6854d609f",
   "metadata": {},
   "outputs": [],
   "source": []
  }
 ],
 "metadata": {
  "kernelspec": {
   "display_name": "Python 3 (ipykernel)",
   "language": "python",
   "name": "python3"
  },
  "language_info": {
   "codemirror_mode": {
    "name": "ipython",
    "version": 3
   },
   "file_extension": ".py",
   "mimetype": "text/x-python",
   "name": "python",
   "nbconvert_exporter": "python",
   "pygments_lexer": "ipython3",
   "version": "3.10.0"
  }
 },
 "nbformat": 4,
 "nbformat_minor": 5
}
